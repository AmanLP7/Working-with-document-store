{
 "cells": [
  {
   "cell_type": "code",
   "execution_count": 1,
   "metadata": {},
   "outputs": [],
   "source": [
    "import pymongo"
   ]
  },
  {
   "cell_type": "code",
   "execution_count": 2,
   "metadata": {},
   "outputs": [],
   "source": [
    "address = \"mongodb://mongo:27017/\"\n",
    "username = \"root\"\n",
    "password = \"example\"\n",
    "\n",
    "client = pymongo.MongoClient(\n",
    "            address,\n",
    "            username=username,\n",
    "            password=password\n",
    "        )\n",
    "\n",
    "db = client[\"docstreaming\"]\n",
    "table = db[\"invoices\"]\n",
    "\n",
    "query = {\"CustomerID\": \"17850\"}\n",
    "\n",
    "doc = table.find(query)"
   ]
  },
  {
   "cell_type": "code",
   "execution_count": 3,
   "metadata": {},
   "outputs": [
    {
     "name": "stdout",
     "output_type": "stream",
     "text": [
      "{'_id': ObjectId('61f16e3b471afa00376459b6'), 'Quantity': '6', 'UnitPrice': '2.55', 'Country': 'United Kingdom', 'CustomerID': '17850', 'StockCode': '85123A', 'Description': 'WHITE HANGING HEART T-LIGHT HOLDER', 'InvoiceDate': '12-02-2010 08:26:00', 'InvoiceNo': '536365'}\n",
      "{'_id': ObjectId('61f16e3c471afa00376459b7'), 'Quantity': '6', 'UnitPrice': '2.55', 'Country': 'United Kingdom', 'CustomerID': '17850', 'StockCode': '85123A', 'Description': 'WHITE HANGING HEART T-LIGHT HOLDER', 'InvoiceDate': '12-02-2010 08:26:00', 'InvoiceNo': '536365'}\n",
      "{'_id': ObjectId('61f16e3d471afa00376459b8'), 'Quantity': '6', 'UnitPrice': '2.55', 'Country': 'United Kingdom', 'CustomerID': '17850', 'StockCode': '85123A', 'Description': 'WHITE HANGING HEART T-LIGHT HOLDER', 'InvoiceDate': '12-02-2010 08:26:00', 'InvoiceNo': '536365'}\n",
      "{'_id': ObjectId('61f16e3d471afa00376459b9'), 'Quantity': '6', 'UnitPrice': '2.55', 'Country': 'United Kingdom', 'CustomerID': '17850', 'StockCode': '85123A', 'Description': 'WHITE HANGING HEART T-LIGHT HOLDER', 'InvoiceDate': '12-02-2010 08:26:00', 'InvoiceNo': '536365'}\n",
      "{'_id': ObjectId('61f16e78471afa00376459bb'), 'Quantity': '6', 'UnitPrice': '2.55', 'Country': 'United Kingdom', 'CustomerID': '17850', 'StockCode': '85123A', 'Description': 'WHITE HANGING HEART T-LIGHT HOLDER', 'InvoiceDate': '12-02-2010 08:26:00', 'InvoiceNo': '536365'}\n",
      "{'_id': ObjectId('61f16e79471afa00376459bc'), 'Quantity': '6', 'UnitPrice': '2.55', 'Country': 'United Kingdom', 'CustomerID': '17850', 'StockCode': '85123A', 'Description': 'WHITE HANGING HEART T-LIGHT HOLDER', 'InvoiceDate': '12-02-2010 08:26:00', 'InvoiceNo': '536365'}\n",
      "{'_id': ObjectId('61f16e79471afa00376459bd'), 'Quantity': '6', 'UnitPrice': '2.55', 'Country': 'United Kingdom', 'CustomerID': '17850', 'StockCode': '85123A', 'Description': 'WHITE HANGING HEART T-LIGHT HOLDER', 'InvoiceDate': '12-02-2010 08:26:00', 'InvoiceNo': '536365'}\n",
      "{'_id': ObjectId('61f16e7a471afa00376459be'), 'Quantity': '6', 'UnitPrice': '2.55', 'Country': 'United Kingdom', 'CustomerID': '17850', 'StockCode': '85123A', 'Description': 'WHITE HANGING HEART T-LIGHT HOLDER', 'InvoiceDate': '12-02-2010 08:26:00', 'InvoiceNo': '536365'}\n",
      "{'_id': ObjectId('61f16e7a471afa00376459bf'), 'Quantity': '6', 'UnitPrice': '2.55', 'Country': 'United Kingdom', 'CustomerID': '17850', 'StockCode': '85123A', 'Description': 'WHITE HANGING HEART T-LIGHT HOLDER', 'InvoiceDate': '12-02-2010 08:26:00', 'InvoiceNo': '536365'}\n",
      "{'_id': ObjectId('61f176cd471afa00376459c1'), 'Quantity': '6', 'UnitPrice': '2.55', 'Country': 'United Kingdom', 'CustomerID': '17850', 'StockCode': '85123A', 'Description': 'WHITE HANGING HEART T-LIGHT HOLDER', 'InvoiceDate': '12-01-2010 08:26:00', 'InvoiceNo': '536365'}\n",
      "{'_id': ObjectId('61f176ce471afa00376459c2'), 'Quantity': '6', 'UnitPrice': '3.39', 'Country': 'United Kingdom', 'CustomerID': '17850', 'StockCode': '71053', 'Description': 'WHITE METAL LANTERN', 'InvoiceDate': '12-01-2010 08:26:00', 'InvoiceNo': '536365'}\n",
      "{'_id': ObjectId('61f176ce471afa00376459c3'), 'Quantity': '8', 'UnitPrice': '2.75', 'Country': 'United Kingdom', 'CustomerID': '17850', 'StockCode': '84406B', 'Description': 'CREAM CUPID HEARTS COAT HANGER', 'InvoiceDate': '12-01-2010 08:26:00', 'InvoiceNo': '536365'}\n",
      "{'_id': ObjectId('61f176ce471afa00376459c4'), 'Quantity': '6', 'UnitPrice': '3.39', 'Country': 'United Kingdom', 'CustomerID': '17850', 'StockCode': '84029G', 'Description': 'KNITTED UNION FLAG HOT WATER BOTTLE', 'InvoiceDate': '12-01-2010 08:26:00', 'InvoiceNo': '536365'}\n",
      "{'_id': ObjectId('61f176ce471afa00376459c5'), 'Quantity': '6', 'UnitPrice': '3.39', 'Country': 'United Kingdom', 'CustomerID': '17850', 'StockCode': '84029E', 'Description': 'RED WOOLLY HOTTIE WHITE HEART.', 'InvoiceDate': '12-01-2010 08:26:00', 'InvoiceNo': '536365'}\n",
      "{'_id': ObjectId('61f176ce471afa00376459c6'), 'Quantity': '2', 'UnitPrice': '7.65', 'Country': 'United Kingdom', 'CustomerID': '17850', 'StockCode': '22752', 'Description': 'SET 7 BABUSHKA NESTING BOXES', 'InvoiceDate': '12-01-2010 08:26:00', 'InvoiceNo': '536365'}\n",
      "{'_id': ObjectId('61f176ce471afa00376459c7'), 'Quantity': '6', 'UnitPrice': '4.25', 'Country': 'United Kingdom', 'CustomerID': '17850', 'StockCode': '21730', 'Description': 'GLASS STAR FROSTED T-LIGHT HOLDER', 'InvoiceDate': '12-01-2010 08:26:00', 'InvoiceNo': '536365'}\n",
      "{'_id': ObjectId('61f176ce471afa00376459c8'), 'Quantity': '6', 'UnitPrice': '1.85', 'Country': 'United Kingdom', 'CustomerID': '17850', 'StockCode': '22633', 'Description': 'HAND WARMER UNION JACK', 'InvoiceDate': '12-01-2010 08:28:00', 'InvoiceNo': '536366'}\n",
      "{'_id': ObjectId('61f176cf471afa00376459c9'), 'Quantity': '6', 'UnitPrice': '1.85', 'Country': 'United Kingdom', 'CustomerID': '17850', 'StockCode': '22632', 'Description': 'HAND WARMER RED POLKA DOT', 'InvoiceDate': '12-01-2010 08:28:00', 'InvoiceNo': '536366'}\n",
      "{'_id': ObjectId('61f176d6471afa00376459f0'), 'Quantity': '6', 'UnitPrice': '1.85', 'Country': 'United Kingdom', 'CustomerID': '17850', 'StockCode': '22632', 'Description': 'HAND WARMER RED POLKA DOT', 'InvoiceDate': '12-01-2010 09:01:00', 'InvoiceNo': '536372'}\n",
      "{'_id': ObjectId('61f176d6471afa00376459f1'), 'Quantity': '6', 'UnitPrice': '1.85', 'Country': 'United Kingdom', 'CustomerID': '17850', 'StockCode': '22633', 'Description': 'HAND WARMER UNION JACK', 'InvoiceDate': '12-01-2010 09:01:00', 'InvoiceNo': '536372'}\n",
      "{'_id': ObjectId('61f176d6471afa00376459f2'), 'Quantity': '6', 'UnitPrice': '2.55', 'Country': 'United Kingdom', 'CustomerID': '17850', 'StockCode': '85123A', 'Description': 'WHITE HANGING HEART T-LIGHT HOLDER', 'InvoiceDate': '12-01-2010 09:02:00', 'InvoiceNo': '536373'}\n"
     ]
    }
   ],
   "source": [
    "for d in doc:\n",
    "    print(d)"
   ]
  },
  {
   "cell_type": "code",
   "execution_count": null,
   "metadata": {},
   "outputs": [],
   "source": []
  }
 ],
 "metadata": {
  "kernelspec": {
   "display_name": "Python 3",
   "language": "python",
   "name": "python3"
  },
  "language_info": {
   "codemirror_mode": {
    "name": "ipython",
    "version": 3
   },
   "file_extension": ".py",
   "mimetype": "text/x-python",
   "name": "python",
   "nbconvert_exporter": "python",
   "pygments_lexer": "ipython3",
   "version": "3.7.6"
  }
 },
 "nbformat": 4,
 "nbformat_minor": 4
}
